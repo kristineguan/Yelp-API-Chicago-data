{
 "cells": [
  {
   "cell_type": "code",
   "execution_count": 54,
   "metadata": {
    "collapsed": true
   },
   "outputs": [],
   "source": [
    "import requests\n",
    "import json\n",
    "import pandas as pd\n",
    "import os"
   ]
  },
  {
   "cell_type": "code",
   "execution_count": 56,
   "metadata": {},
   "outputs": [],
   "source": [
    "os.chdir('C:\\\\Users\\\\Yingting-PC\\\\Yingting Python Notebooks\\\\Yelp api')"
   ]
  },
  {
   "cell_type": "code",
   "execution_count": 60,
   "metadata": {},
   "outputs": [
    {
     "data": {
      "text/plain": [
       "(98, 1)"
      ]
     },
     "execution_count": 60,
     "metadata": {},
     "output_type": "execute_result"
    }
   ],
   "source": [
    "neig_name=pd.read_csv('Neighborhoods.csv')\n",
    "neig_name.shape"
   ]
  },
  {
   "cell_type": "code",
   "execution_count": 108,
   "metadata": {
    "collapsed": true
   },
   "outputs": [],
   "source": [
    "with open('api key.txt') as f:\n",
    "    YELP_API_KEY=f.readline()"
   ]
  },
  {
   "cell_type": "code",
   "execution_count": 98,
   "metadata": {},
   "outputs": [],
   "source": [
    "# https://www.yelp.com/developers/documentation/v3/business_search\n",
    "YELP_SEARCH='https://api.yelp.com/v3/businesses/search'\n",
    "headers={'Authorization': 'Bearer %s' % YELP_API_KEY}"
   ]
  },
  {
   "cell_type": "code",
   "execution_count": 99,
   "metadata": {},
   "outputs": [],
   "source": [
    "columns=['neighborhood','name','distance','categories','address','display_phone','price','rating',\n",
    "        'review_count','url','latitude','longitude']\n",
    "final = pd.DataFrame(columns=columns)\n",
    "\n",
    "for neighborhood in neig_name.Name:\n",
    "    params = {'location': neighborhood + ', Chicago, IL', 'term': 'Restaurant','sort_by': 'review_count','limit': 50}\n",
    "    query=requests.get(YELP_SEARCH,headers=headers,params=params)\n",
    "    df=pd.DataFrame.from_dict(query.json()['businesses'])\n",
    "    \n",
    "    if 'id' in df:\n",
    "        df['categories']=df.categories.apply(lambda x: x[0]['title'])\n",
    "        df['latitude']=df.coordinates.apply(lambda x: x['latitude'])\n",
    "        df['longitude']=df.coordinates.apply(lambda x: x['longitude'])\n",
    "        df['address']=df.location.apply(lambda x: x['display_address'][0])\n",
    "        df['neighborhood']=neighborhood\n",
    "    \n",
    "    final = pd.concat([final,df[columns]],ignore_index=True)"
   ]
  },
  {
   "cell_type": "code",
   "execution_count": 107,
   "metadata": {
    "collapsed": true
   },
   "outputs": [],
   "source": [
    "final.to_csv('Chicago Restaurants.csv',index=False)"
   ]
  },
  {
   "cell_type": "code",
   "execution_count": null,
   "metadata": {
    "collapsed": true
   },
   "outputs": [],
   "source": []
  }
 ],
 "metadata": {
  "kernelspec": {
   "display_name": "Python 3",
   "language": "python",
   "name": "python3"
  },
  "language_info": {
   "codemirror_mode": {
    "name": "ipython",
    "version": 3
   },
   "file_extension": ".py",
   "mimetype": "text/x-python",
   "name": "python",
   "nbconvert_exporter": "python",
   "pygments_lexer": "ipython3",
   "version": "3.6.3"
  }
 },
 "nbformat": 4,
 "nbformat_minor": 2
}
